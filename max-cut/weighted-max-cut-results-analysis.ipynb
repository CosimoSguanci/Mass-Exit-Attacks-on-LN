{
 "cells": [
  {
   "cell_type": "code",
   "execution_count": 5,
   "metadata": {},
   "outputs": [
    {
     "ename": "SyntaxError",
     "evalue": "f-string: unmatched '[' (2664789970.py, line 13)",
     "output_type": "error",
     "traceback": [
      "\u001b[0;36m  File \u001b[0;32m\"/var/folders/dy/mkgw7bnd24d3c63n_8p78fy40000gn/T/ipykernel_71699/2664789970.py\"\u001b[0;36m, line \u001b[0;32m13\u001b[0m\n\u001b[0;31m    print(f\"{node[\"pub_key\"]} : {node[\"alias\"]}\")\u001b[0m\n\u001b[0m                   ^\u001b[0m\n\u001b[0;31mSyntaxError\u001b[0m\u001b[0;31m:\u001b[0m f-string: unmatched '['\n"
     ]
    }
   ],
   "source": [
    "import json\n",
    " \n",
    "f = open('nodes-in-weighted-max-cut.json') \n",
    "data = json.load(f)\n",
    "f.close()\n",
    "\n",
    "channel_count_charts = []\n",
    "capacity_charts = []\n",
    "\n",
    "for node in data:\n",
    "    channel_count_charts.append(node[\"noderank\"][\"channelcount\"])\n",
    "    capacity_charts.append(node[\"noderank\"][\"capacity\"])\n",
    "    pub_key = node[\"pub_key\"]\n",
    "    alias = node[\"alias\"]\n",
    "    print(f\"{pub_key} : {alias}\")\n",
    "\n",
    "print(\"Channel Count chart: \")\n",
    "channel_count_charts.sort()\n",
    "print(channel_count_charts)\n",
    "\n",
    "print(\"Capacity chart: \")\n",
    "capacity_charts.sort()\n",
    "print(capacity_charts)\n"
   ]
  }
 ],
 "metadata": {
  "interpreter": {
   "hash": "301b266aa629aa9de487ee452fff12251e6c35c264ea2d52ed4daebf718ec4b8"
  },
  "kernelspec": {
   "display_name": "Python 3.9.7 ('base')",
   "language": "python",
   "name": "python3"
  },
  "language_info": {
   "codemirror_mode": {
    "name": "ipython",
    "version": 3
   },
   "file_extension": ".py",
   "mimetype": "text/x-python",
   "name": "python",
   "nbconvert_exporter": "python",
   "pygments_lexer": "ipython3",
   "version": "3.9.7"
  },
  "orig_nbformat": 4
 },
 "nbformat": 4,
 "nbformat_minor": 2
}
