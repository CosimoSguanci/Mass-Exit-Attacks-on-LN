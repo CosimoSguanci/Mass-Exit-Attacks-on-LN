{
 "cells": [
  {
   "cell_type": "code",
   "execution_count": 6,
   "metadata": {},
   "outputs": [
    {
     "name": "stdout",
     "output_type": "stream",
     "text": [
      "0202e7727ee46d943a44c7bf0dce14220a839630dee67d03446bf935178b55a0df : The Captain [Coincept.com]\n",
      "020d1617e27ac022395352f2b3774969593d3d6ddff6fb117d820a9dda8da45217 : needleInTheHay\n",
      "0230a5bca558e6741460c13dd34e636da28e52afd91cf93db87ed1b0392a7466eb : Blixt Wallet ≡ƒƒí\n",
      "0242a4ae0c5bef18048fbecf995094b74bfb0f7391418d71ed394784373f41e4f3 : CoinGate\n",
      "0260fab633066ed7b1d9b9b8a0fac87e1579d1709e874d28a0d171a1f5c43bb877 : southxchange.com\n",
      "026165850492521f4ac8abd9bd8088123446d126f648ca35e60f88177dc149ceb2 : Boltz\n",
      "027ce055380348d7812d2ae7745701c9f93e70c1adeb2657f053f91df4f2843c71 : c-otto.de\n",
      "02816caed43171d3c9854e3b0ab2cf0c42be086ff1bd4005acc2a5f7db70d83774 : Fold\n",
      "028d98b9969fbed53784a36617eb489a59ab6dc9b9d77fcdca9ff55307cd98e3c4 : OpenNode.com\n",
      "0298f6074a454a1f5345cb2a7c6f9fce206cd0bf675d177cdbf0ca7508dd28852f : BCash_Is_Trash\n",
      "02a04446caa81636d60d63b066f2814cbd3a6b5c258e3172cbdded7a16e2cfff4c : ln.bitstamp.net [Bitstamp]\n",
      "02f1a8c87607f415c8f22c00593002775941dea48869ce23096af27b0cfdcc0b69 : Kraken ≡ƒÉÖΓÜí\n",
      "031015a7839468a3c266d662d5bb21ea4cea24226936e2864a7ca4f2c3939836e0 : Breez\n",
      "03271338633d2d37b285dae4df40b413d8c6c791fbee7797bc5dc70812196d7d5c : lnmarkets.com\n",
      "033d8656219478701227199cbd6f670335c8d408a92ae88b962c49d4dc0e83e025 : bfx-lnd0\n",
      "033e9ce4e8f0e68f7db49ffb6b9eecc10605f3f3fcb3c630545887749ab515b9c7 : LNBIG.com [lnd-11]\n",
      "034ea80f8b148c750463546bd999bf7321a0e6dfc60aaf84bd0400a2e8d376c0d5 : LNBIG.com [lnd-12]\n",
      "035b1ff29e8db1ba8f2a4f4f95db239b54069cb949b8cde329418e2a83da4f1b30 : DiamondHands≡ƒÆÄ≡ƒÖî\n",
      "035e4ff418fc8b5554c5d9eea66396c227bd429a3251c8cbc711002ba215bfc226 : WalletOfSatoshi.com\n",
      "035f5236d7e6c6d16107c1f86e4514e6ccdd6b2c13c2abc1d7a83cd26ecb4c1d0e : LNBIG.com [lnd-13]\n",
      "037659a0ac8eb3b8d0a720114efc861d3a940382dcfa1403746b4f8f6b2e8810ba : ln.nicehash.com [Nicehash]\n",
      "037f990e61acee8a7697966afd29dd88f3b1f8a7b14d625c4f8742bd952003a590 : fixedfloat.com\n",
      "03864ef025fde8fb587d989186ce6a4a186895ee44a926bfc370e2c366597a3f8f : ACINQ\n",
      "038fe1bd966b5cb0545963490c631eaa1924e2c4c0ea4e7dcb5d4582a1e7f2f1a5 : zero fee routing | CLN\n",
      "0390b5d4492dc2f5318e5233ab2cebf6d48914881a33ef6a9c6bcdbb433ad986d0 : LNBIG.com [lnd-01]\n",
      "039f0ad37eef3e1813ebe825d2d91908914a2c3ec1b2047fda6a9fedce3a6f63dc : medium_of_exchange\n",
      "03baa70886d9200af0ffbd3f9e18d96008331c858456b16e3a9b41e735c6208fef : LIGHTNING\n",
      "03bb88ccc444534da7b5b64b4f7b15e1eccb18e102db0e400d4b9cfe93763aa26d : ln2me.com / LightningTo.Me\n",
      "03cde60a6323f7122d5178255766e38114b4722ede08f7c9e0c5df9b912cc201d6 : bfx-lnd1\n",
      "03d06758583bb5154774a6eb221b1276c9e82d65bbaceca806d90e20c108f4b1c7 : yalls.org yalls-tor\n",
      "Channel Count chart: \n",
      "[1, 2, 4, 5, 7, 8, 10, 11, 15, 16, 18, 19, 20, 22, 23, 24, 25, 26, 31, 43, 57, 58, 67, 71, 75, 96, 103, 138, 143, 267]\n",
      "Capacity chart: \n",
      "[1, 2, 3, 4, 6, 7, 8, 9, 11, 13, 15, 16, 18, 19, 22, 26, 30, 31, 32, 34, 37, 48, 51, 55, 63, 64, 71, 73, 76, 99]\n"
     ]
    }
   ],
   "source": [
    "import json\n",
    " \n",
    "f = open('nodes-in-weighted-max-cut.json') \n",
    "data = json.load(f)\n",
    "f.close()\n",
    "\n",
    "channel_count_charts = []\n",
    "capacity_charts = []\n",
    "\n",
    "for node in data:\n",
    "    channel_count_charts.append(node[\"noderank\"][\"channelcount\"])\n",
    "    capacity_charts.append(node[\"noderank\"][\"capacity\"])\n",
    "    pub_key = node[\"pub_key\"]\n",
    "    alias = node[\"alias\"]\n",
    "    print(f\"{pub_key} : {alias}\")\n",
    "\n",
    "print(\"Channel Count chart: \")\n",
    "channel_count_charts.sort()\n",
    "print(channel_count_charts)\n",
    "\n",
    "print(\"Capacity chart: \")\n",
    "capacity_charts.sort()\n",
    "print(capacity_charts)\n"
   ]
  }
 ],
 "metadata": {
  "interpreter": {
   "hash": "301b266aa629aa9de487ee452fff12251e6c35c264ea2d52ed4daebf718ec4b8"
  },
  "kernelspec": {
   "display_name": "Python 3.9.7 ('base')",
   "language": "python",
   "name": "python3"
  },
  "language_info": {
   "codemirror_mode": {
    "name": "ipython",
    "version": 3
   },
   "file_extension": ".py",
   "mimetype": "text/x-python",
   "name": "python",
   "nbconvert_exporter": "python",
   "pygments_lexer": "ipython3",
   "version": "3.9.7"
  },
  "orig_nbformat": 4
 },
 "nbformat": 4,
 "nbformat_minor": 2
}
